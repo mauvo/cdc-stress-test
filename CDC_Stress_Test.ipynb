{
  "nbformat": 4,
  "nbformat_minor": 0,
  "metadata": {
    "colab": {
      "provenance": []
    },
    "kernelspec": {
      "name": "python3",
      "display_name": "Python 3"
    },
    "language_info": {
      "name": "python"
    }
  },
  "cells": [
    {
      "cell_type": "code",
      "execution_count": null,
      "metadata": {
        "colab": {
          "base_uri": "https://localhost:8080/"
        },
        "id": "b09UpzWiPSxi",
        "outputId": "bb747b23-c8da-4898-e34c-6afda119a08d"
      },
      "outputs": [
        {
          "output_type": "stream",
          "name": "stdout",
          "text": [
            "Collecting neo4j-rust-ext\n",
            "  Downloading neo4j_rust_ext-5.27.0.0-cp310-cp310-manylinux_2_17_x86_64.manylinux2014_x86_64.whl.metadata (3.7 kB)\n",
            "Collecting neo4j==5.27.0 (from neo4j-rust-ext)\n",
            "  Downloading neo4j-5.27.0-py3-none-any.whl.metadata (5.9 kB)\n",
            "Requirement already satisfied: pytz in /usr/local/lib/python3.10/dist-packages (from neo4j==5.27.0->neo4j-rust-ext) (2024.2)\n",
            "Downloading neo4j_rust_ext-5.27.0.0-cp310-cp310-manylinux_2_17_x86_64.manylinux2014_x86_64.whl (284 kB)\n",
            "\u001b[2K   \u001b[90m━━━━━━━━━━━━━━━━━━━━━━━━━━━━━━━━━━━━━━━━\u001b[0m \u001b[32m284.9/284.9 kB\u001b[0m \u001b[31m3.4 MB/s\u001b[0m eta \u001b[36m0:00:00\u001b[0m\n",
            "\u001b[?25hDownloading neo4j-5.27.0-py3-none-any.whl (301 kB)\n",
            "\u001b[2K   \u001b[90m━━━━━━━━━━━━━━━━━━━━━━━━━━━━━━━━━━━━━━━━\u001b[0m \u001b[32m301.7/301.7 kB\u001b[0m \u001b[31m6.9 MB/s\u001b[0m eta \u001b[36m0:00:00\u001b[0m\n",
            "\u001b[?25hInstalling collected packages: neo4j, neo4j-rust-ext\n",
            "Successfully installed neo4j-5.27.0 neo4j-rust-ext-5.27.0.0\n",
            "Requirement already satisfied: pandas in /usr/local/lib/python3.10/dist-packages (2.2.2)\n",
            "Requirement already satisfied: numpy>=1.22.4 in /usr/local/lib/python3.10/dist-packages (from pandas) (1.26.4)\n",
            "Requirement already satisfied: python-dateutil>=2.8.2 in /usr/local/lib/python3.10/dist-packages (from pandas) (2.8.2)\n",
            "Requirement already satisfied: pytz>=2020.1 in /usr/local/lib/python3.10/dist-packages (from pandas) (2024.2)\n",
            "Requirement already satisfied: tzdata>=2022.7 in /usr/local/lib/python3.10/dist-packages (from pandas) (2024.2)\n",
            "Requirement already satisfied: six>=1.5 in /usr/local/lib/python3.10/dist-packages (from python-dateutil>=2.8.2->pandas) (1.16.0)\n",
            "Requirement already satisfied: requests in /usr/local/lib/python3.10/dist-packages (2.32.3)\n",
            "Requirement already satisfied: charset-normalizer<4,>=2 in /usr/local/lib/python3.10/dist-packages (from requests) (3.4.0)\n",
            "Requirement already satisfied: idna<4,>=2.5 in /usr/local/lib/python3.10/dist-packages (from requests) (3.10)\n",
            "Requirement already satisfied: urllib3<3,>=1.21.1 in /usr/local/lib/python3.10/dist-packages (from requests) (2.2.3)\n",
            "Requirement already satisfied: certifi>=2017.4.17 in /usr/local/lib/python3.10/dist-packages (from requests) (2024.8.30)\n"
          ]
        }
      ],
      "source": [
        "#Amazon target\n",
        "# 1_000_000_000 events per day\n",
        "# ~11_500 events per second\n",
        "# ~9.2 MB/s\n",
        "# ~800 bytes per event message\n",
        "\n",
        "#Install packages\n",
        "!pip install neo4j-rust-ext\n",
        "!pip install pandas\n",
        "!pip install requests"
      ]
    },
    {
      "cell_type": "code",
      "source": [
        "#Import packages and set env variables\n",
        "import neo4j\n",
        "from neo4j import GraphDatabase\n",
        "import random\n",
        "from threading import Thread\n",
        "import threading\n",
        "from tqdm import tqdm\n",
        "from time import perf_counter\n",
        "import time\n",
        "import pandas\n",
        "import requests\n",
        "import base64\n",
        "import statistics\n",
        "import warnings\n",
        "import sys\n",
        "from types import ModuleType, FunctionType\n",
        "from gc import get_referents\n",
        "\n",
        "#32GB Aura Instance\n",
        "NEO4J_USERNAME = \"neo4j\"\n",
        "NEO4J_URI_5 = \"neo4j+s://7a1a5e39.databases.neo4j.io\"\n",
        "NEO4J_PASSWORD_5 = \"SVVAyymPa5jmojVH6-ddy0agBIxBYh0rqqHGJafmGqI\"\n",
        "NEO4J_AUTH_5 = (NEO4J_USERNAME, NEO4J_PASSWORD_5)\n",
        "NEO4j_DATABASE = \"neo4j\"\n",
        "\n",
        "class Neo4jInfo():\n",
        "  def __init__(self, uri, auth, version, database):\n",
        "    self.uri = uri\n",
        "    self.auth = auth\n",
        "    self.version = version\n",
        "    self.database = database\n",
        "\n",
        "neo4j_info = Neo4jInfo(NEO4J_URI_5, NEO4J_AUTH_5, 5, NEO4j_DATABASE)"
      ],
      "metadata": {
        "id": "nDh1EFxeQ05U",
        "colab": {
          "base_uri": "https://localhost:8080/",
          "height": 384
        },
        "outputId": "76225f3e-b082-435b-ceae-f74f692de237"
      },
      "execution_count": null,
      "outputs": [
        {
          "output_type": "error",
          "ename": "ModuleNotFoundError",
          "evalue": "No module named 'neo4j'",
          "traceback": [
            "\u001b[0;31m---------------------------------------------------------------------------\u001b[0m",
            "\u001b[0;31mModuleNotFoundError\u001b[0m                       Traceback (most recent call last)",
            "\u001b[0;32m<ipython-input-1-80114e45dd63>\u001b[0m in \u001b[0;36m<cell line: 2>\u001b[0;34m()\u001b[0m\n\u001b[1;32m      1\u001b[0m \u001b[0;31m#Import packages and set env variables\u001b[0m\u001b[0;34m\u001b[0m\u001b[0;34m\u001b[0m\u001b[0m\n\u001b[0;32m----> 2\u001b[0;31m \u001b[0;32mimport\u001b[0m \u001b[0mneo4j\u001b[0m\u001b[0;34m\u001b[0m\u001b[0;34m\u001b[0m\u001b[0m\n\u001b[0m\u001b[1;32m      3\u001b[0m \u001b[0;32mfrom\u001b[0m \u001b[0mneo4j\u001b[0m \u001b[0;32mimport\u001b[0m \u001b[0mGraphDatabase\u001b[0m\u001b[0;34m\u001b[0m\u001b[0;34m\u001b[0m\u001b[0m\n\u001b[1;32m      4\u001b[0m \u001b[0;32mimport\u001b[0m \u001b[0mrandom\u001b[0m\u001b[0;34m\u001b[0m\u001b[0;34m\u001b[0m\u001b[0m\n\u001b[1;32m      5\u001b[0m \u001b[0;32mfrom\u001b[0m \u001b[0mthreading\u001b[0m \u001b[0;32mimport\u001b[0m \u001b[0mThread\u001b[0m\u001b[0;34m\u001b[0m\u001b[0;34m\u001b[0m\u001b[0m\n",
            "\u001b[0;31mModuleNotFoundError\u001b[0m: No module named 'neo4j'",
            "",
            "\u001b[0;31m---------------------------------------------------------------------------\u001b[0;32m\nNOTE: If your import is failing due to a missing package, you can\nmanually install dependencies using either !pip or !apt.\n\nTo view examples of installing some common dependencies, click the\n\"Open Examples\" button below.\n\u001b[0;31m---------------------------------------------------------------------------\u001b[0m\n"
          ],
          "errorDetails": {
            "actions": [
              {
                "action": "open_url",
                "actionText": "Open Examples",
                "url": "/notebooks/snippets/importing_libraries.ipynb"
              }
            ]
          }
        }
      ]
    },
    {
      "cell_type": "code",
      "source": [
        "#Test connection\n",
        "def can_connect(neo4j_info):\n",
        "  with GraphDatabase.driver(neo4j_info.uri, auth=neo4j_info.auth) as driver:\n",
        "    try:\n",
        "      driver.verify_connectivity() #Throws if no connection\n",
        "      return True\n",
        "    except Exception as e:\n",
        "      print(e)\n",
        "      return False\n",
        "\n",
        "def run_cypher(session, cypher, **kwargs):\n",
        "  result = session.run(cypher, kwargs)\n",
        "  values = []\n",
        "  for record in result:\n",
        "    values.append(record.values())\n",
        "  summary = result.consume()\n",
        "  return summary.counters\n",
        "\n",
        "if can_connect(neo4j_info):\n",
        "  print(\"Can connect to v5\")\n",
        "else:\n",
        "  print(\"Failed to connect to v5\")\n"
      ],
      "metadata": {
        "id": "s9lDNJr3Rc0v",
        "colab": {
          "base_uri": "https://localhost:8080/"
        },
        "outputId": "5a8742d0-1827-414d-9222-5019048cc631"
      },
      "execution_count": null,
      "outputs": [
        {
          "output_type": "stream",
          "name": "stdout",
          "text": [
            "Can connect to v5\n"
          ]
        }
      ]
    },
    {
      "cell_type": "code",
      "source": [
        "#Count and delete nodes, to reset database when required\n",
        "\n",
        "count_nodes_cypher = \"\"\"\n",
        "MATCH (n{})\n",
        "RETURN count(n)\n",
        "\"\"\"\n",
        "\n",
        "delete_all_cypher_5 = \"\"\"\n",
        "MATCH (n{})\n",
        "CALL (n) {{\n",
        "  DETACH DELETE n\n",
        "}}\n",
        "IN TRANSACTIONS OF 1000 ROWS\n",
        "\"\"\"\n",
        "\n",
        "def get_count_nodes_cypher(label_id = \"\"):\n",
        "  if label_id != \"\":\n",
        "    return count_nodes_cypher.format(\":label_id_{}\".format(label_id))\n",
        "  else:\n",
        "    return count_nodes_cypher.format(\"\")\n",
        "\n",
        "def get_delete_nodes_cypher(label_id = \"\"):\n",
        "  if label_id != \"\":\n",
        "    return delete_all_cypher_5.format(\":label_id_{}\".format(label_id))\n",
        "  else:\n",
        "    return delete_all_cypher_5.format(\"\")\n",
        "\n",
        "def count_nodes(session, label_id=\"\"):\n",
        "  cypher = get_count_nodes_cypher(label_id)\n",
        "  result = session.run(cypher)\n",
        "  count = 0\n",
        "  for record in result:\n",
        "    count += record.values()[0]\n",
        "  summary = result.consume()\n",
        "  return count\n",
        "\n",
        "def delete_all_nodes(session, neo4j_info, label_id=\"\"):\n",
        "  cypher = get_delete_nodes_cypher(label_id)\n",
        "  result = session.run(cypher)\n",
        "  count = 0\n",
        "  for record in result:\n",
        "    count += record.values()[0]\n",
        "  summary = result.consume()\n",
        "  return count\n",
        "\n",
        "def test_count_nodes(neo4j_info, label_id=\"\"):\n",
        "  with GraphDatabase.driver(neo4j_info.uri, auth=neo4j_info.auth) as driver:\n",
        "    with driver.session(database=neo4j_info.database) as session:\n",
        "      return count_nodes(session, label_id)\n",
        "\n",
        "#Delete nodes\n",
        "def test_delete_all_nodes(neo4j_info, label_id=\"\"):\n",
        "  with GraphDatabase.driver(neo4j_info.uri, auth=neo4j_info.auth) as driver:\n",
        "    with driver.session(database=\"neo4j\") as session:\n",
        "      return delete_all_nodes(session, neo4j_info, label_id)\n",
        "\n",
        "print(\"Counted {} nodes on v{}\".format(test_count_nodes(neo4j_info), neo4j_info.version))\n",
        "print(\"Deleted {} nodes on v{}\".format(test_delete_all_nodes(neo4j_info), neo4j_info.version))\n",
        "print(\"Counted {} nodes on v{}\".format(test_count_nodes(neo4j_info), neo4j_info.version))"
      ],
      "metadata": {
        "colab": {
          "base_uri": "https://localhost:8080/"
        },
        "id": "xNsRvnHsDDA5",
        "outputId": "12f2b7b4-7042-4dea-b9ac-c4548375aec3"
      },
      "execution_count": null,
      "outputs": [
        {
          "output_type": "stream",
          "name": "stdout",
          "text": [
            "Counted 1500 nodes on v5\n",
            "Deleted 0 nodes on v5\n",
            "Counted 0 nodes on v5\n"
          ]
        }
      ]
    },
    {
      "cell_type": "code",
      "source": [
        "#Create/delete nodes as a source of changes to drive CDC events\n",
        "\n",
        "create_nodes_cypher = \"\"\"\n",
        "UNWIND range(1,$node_count) AS i\n",
        "CREATE (n:label_id_{label})\n",
        "SET n.payload = $payload\n",
        "\"\"\"\n",
        "\n",
        "delete_nodes_cypher = \"\"\"\n",
        "MATCH (n:label_id_{label})\n",
        "DETACH DELETE n\n",
        "\"\"\"\n",
        "\n",
        "def get_create_nodes_cypher(label_id):\n",
        "  return create_nodes_cypher.format(label=label_id)\n",
        "\n",
        "def get_delete_nodes_cypher(label_id):\n",
        "  return delete_nodes_cypher.format(label=label_id)\n",
        "\n",
        "def get_payload(payload_bytes):\n",
        "  return bytes(payload_bytes)\n",
        "\n",
        "def create_nodes(session, node_count, label_id, payload_bytes):\n",
        "  cypher = get_create_nodes_cypher(label_id)\n",
        "  payload = get_payload(payload_bytes)\n",
        "  run_cypher(session, cypher, node_count=node_count, payload=payload)\n",
        "\n",
        "def delete_nodes(session, label_id):\n",
        "  cypher = get_delete_nodes_cypher(label_id)\n",
        "  run_cypher(session, cypher)\n",
        "\n",
        "def test_create_nodes(neo4j_info, node_count, label_id, payload_bytes):\n",
        "  with GraphDatabase.driver(neo4j_info.uri, auth=neo4j_info.auth) as driver:\n",
        "    with driver.session(database=neo4j_info.database) as session:\n",
        "      create_nodes(session, node_count, label_id, payload_bytes)\n",
        "\n",
        "def test_delete_nodes(neo4j_info, label_id):\n",
        "  with GraphDatabase.driver(neo4j_info.uri, auth=neo4j_info.auth) as driver:\n",
        "    with driver.session(database=neo4j_info.database) as session:\n",
        "      delete_nodes(session, label_id)\n",
        "\n",
        "label_id = \"test\"\n",
        "print(\"Counted {} nodes with label {} on v{}\".format(test_count_nodes(neo4j_info, label_id), label_id, neo4j_info.version))\n",
        "test_create_nodes(neo4j_info, 100, label_id, 800)\n",
        "print(\"Counted {} nodes with label {} on v{}\".format(test_count_nodes(neo4j_info, label_id), label_id, neo4j_info.version))\n",
        "test_delete_nodes(neo4j_info, label_id)\n",
        "print(\"Counted {} nodes with label {} on v{}\".format(test_count_nodes(neo4j_info, label_id), label_id, neo4j_info.version))"
      ],
      "metadata": {
        "id": "aQGlGAnC-PfX",
        "colab": {
          "base_uri": "https://localhost:8080/"
        },
        "outputId": "44f3882c-290e-4813-8852-9157b0c1de03"
      },
      "execution_count": null,
      "outputs": [
        {
          "output_type": "stream",
          "name": "stdout",
          "text": [
            "Counted 0 nodes with label test on v5\n",
            "Counted 100 nodes with label test on v5\n",
            "Counted 0 nodes with label test on v5\n"
          ]
        }
      ]
    },
    {
      "cell_type": "code",
      "source": [
        "#Class that continuously checks CDC in background thread\n",
        "\n",
        "retrieve_changes_cypher = \"\"\"\n",
        "CALL db.cdc.query($previous_id)\n",
        "YIELD id, txId, seq, metadata, event\n",
        "RETURN id, txId, seq, metadata, event\n",
        "LIMIT 10000\n",
        "\"\"\"\n",
        "\n",
        "get_current_id_cypher = \"\"\"\n",
        "CALL db.cdc.current() YIELD id RETURN id\n",
        "\"\"\"\n",
        "\n",
        "import sys\n",
        "\n",
        "class cdc:\n",
        "\n",
        "  def __init__(self):\n",
        "    self.neo4j_info = None\n",
        "    self.driver = None\n",
        "    self.session = None\n",
        "    self.previous_id = None\n",
        "    self.running = False\n",
        "\n",
        "  def __enter__(self):\n",
        "    return self\n",
        "\n",
        "  def __exit__(self, exc_type, exc_value, traceback):\n",
        "    self.close()\n",
        "\n",
        "  def open(self, neo4j_info):\n",
        "    self.close()\n",
        "    self.neo4j_info = neo4j_info\n",
        "    self.driver = GraphDatabase.driver(neo4j_info.uri, auth=neo4j_info.auth)\n",
        "    self.session = self.driver.session(database=neo4j_info.database)\n",
        "    self.previous_id = None\n",
        "    self.first_event_size = None\n",
        "\n",
        "  def close(self):\n",
        "    if self.running: self.wait_stop()\n",
        "    if self.session is not None:\n",
        "      self.session.close()\n",
        "      self.session = None\n",
        "    if self.driver is not None:\n",
        "      self.driver.close()\n",
        "      self.driver = None\n",
        "\n",
        "  def start(self):\n",
        "    if self.running: return\n",
        "\n",
        "    self.running = True\n",
        "    self.start_time = time.time()\n",
        "    self.total_captured = 0\n",
        "\n",
        "    self.thread = Thread(target=self.cdc_thread, args=(self.driver, lambda : self.running))\n",
        "    self.thread.start()\n",
        "\n",
        "  def send_stop(self):\n",
        "    self.running = False\n",
        "    self.stop_thread = Thread(target=self.time_stop_thread, args=())\n",
        "    self.stop_thread.start()\n",
        "\n",
        "  def time_stop_thread(self):\n",
        "    self.thread.join()\n",
        "    self.stop_time = time.time()\n",
        "    self.total_runtime = self.stop_time - self.start_time\n",
        "\n",
        "  def wait_stop(self):\n",
        "    self.send_stop()\n",
        "    self.stop_thread.join()\n",
        "    return self.total_captured, self.total_runtime, self.first_event_size\n",
        "\n",
        "  def cdc_thread(self, driver, running):\n",
        "    with driver.session(database=\"neo4j\") as session:\n",
        "      while running():\n",
        "        self.total_captured += self.retrieve_changes(session)\n",
        "        time.sleep(0.001)\n",
        "\n",
        "  def reset_id_to_current(self):\n",
        "    result = self.session.run(get_current_id_cypher)\n",
        "    return result.single()[0]\n",
        "\n",
        "  def retrieve_changes(self, session):\n",
        "    if self.previous_id == None:\n",
        "      self.previous_id = self.reset_id_to_current()\n",
        "    result = session.run(retrieve_changes_cypher, previous_id=self.previous_id)\n",
        "    changes = []\n",
        "    count = 0\n",
        "    for record in result:\n",
        "      count += 1\n",
        "      self.previous_id = record.values()[0]\n",
        "      if self.first_event_size == None:\n",
        "        self.first_event_size = sys.getsizeof(str(record))\n",
        "    return count\n",
        "\n",
        "cdc = cdc()\n",
        "\n",
        "def test_cdc():\n",
        "  label_id = \"test_1\"\n",
        "  test_delete_nodes(neo4j_info, label_id)\n",
        "  print(\"Counted {} nodes with label {} on v{}\".format(test_count_nodes(neo4j_info, label_id), label_id, neo4j_info.version))\n",
        "\n",
        "  cdc.open(neo4j_info)\n",
        "  cdc.start()\n",
        "  test_create_nodes(neo4j_info, 100, label_id, 1)\n",
        "  print(\"Counted {} nodes with label {} on v{}\".format(test_count_nodes(neo4j_info, label_id), label_id, neo4j_info.version))\n",
        "  count = cdc.total_captured\n",
        "  print(\"Retrieved {} event changes\".format(count))\n",
        "  print(\"Deleting Nodes...\")\n",
        "  test_delete_nodes(neo4j_info, label_id)\n",
        "  print(\"Counted {} nodes with label {} on v{}\".format(test_count_nodes(neo4j_info, label_id), label_id, neo4j_info.version))\n",
        "  time.sleep(1)\n",
        "  count = cdc.total_captured\n",
        "  print(\"Retrieved {} event changes\".format(count))\n",
        "  total_captured, total_time, first_event_size = cdc.wait_stop()\n",
        "  cdc.close()\n",
        "  print(\"Total time: {}\".format(total_time))\n",
        "  print(\"Total captured: {}\".format(total_captured))\n",
        "  print(\"First event size: {}\".format(first_event_size))\n",
        "\n",
        "test_cdc()"
      ],
      "metadata": {
        "colab": {
          "base_uri": "https://localhost:8080/"
        },
        "id": "5bxX3l9WUpKk",
        "outputId": "670199bc-f22f-447c-92bc-7d118cc181c7"
      },
      "execution_count": null,
      "outputs": [
        {
          "output_type": "stream",
          "name": "stdout",
          "text": [
            "Counted 0 nodes with label test_1 on v5\n",
            "Counted 100 nodes with label test_1 on v5\n",
            "Retrieved 100 event changes\n",
            "Deleting Nodes...\n",
            "Counted 0 nodes with label test_1 on v5\n",
            "Retrieved 200 event changes\n",
            "Total time: 5.38709831237793\n",
            "Total captured: 200\n",
            "First event size: 825\n"
          ]
        }
      ]
    },
    {
      "cell_type": "code",
      "source": [
        "#Single-threaded stress test of CDC\n",
        "\n",
        "changed_count = 0\n",
        "label_id = \"test_3\"\n",
        "cdc.open(neo4j_info)\n",
        "with GraphDatabase.driver(neo4j_info.uri, auth=neo4j_info.auth) as driver:\n",
        "  with driver.session(database=neo4j_info.database) as session:\n",
        "    start = time.time()\n",
        "    cdc.start()\n",
        "    while(time.time() - start < 10):\n",
        "      create_nodes(session, 50, label_id, 1)\n",
        "      changed_count += 50\n",
        "      delete_nodes(session, label_id)\n",
        "      changed_count += 50\n",
        "      time.sleep(1)\n",
        "    cdc.send_stop()\n",
        "\n",
        "total_captured, total_time, first_event_size = cdc.wait_stop()\n",
        "cdc.close()\n",
        "\n",
        "print(\"Change count {}, Captured count {}\".format(changed_count, total_captured))"
      ],
      "metadata": {
        "colab": {
          "base_uri": "https://localhost:8080/"
        },
        "id": "SuETSSg4bq_k",
        "outputId": "1a120730-b598-4e67-e5b9-74d1bc0dd18f"
      },
      "execution_count": null,
      "outputs": [
        {
          "output_type": "stream",
          "name": "stdout",
          "text": [
            "Change count 800, Captured count 800\n"
          ]
        }
      ]
    },
    {
      "cell_type": "code",
      "source": [
        "#Class that continuously checks create database changes in background thread\n",
        "\n",
        "import multiprocessing\n",
        "import math\n",
        "\n",
        "class change_maker:\n",
        "\n",
        "  def __init__(self):\n",
        "    self.max_threads = multiprocessing.cpu_count() * 2\n",
        "    if self.max_threads > 1:\n",
        "      self.max_threads -= 1\n",
        "    self.max_batch_size = 3_000\n",
        "    self.running = False\n",
        "    self.session = None\n",
        "    self.driver = None\n",
        "\n",
        "  def __enter__(self):\n",
        "    return self\n",
        "\n",
        "  def __exit__(self, exc_type, exc_value, traceback):\n",
        "    self.close()\n",
        "\n",
        "  def open(self, neo4j_info, target_change_rate=1, payload_bytes=1):\n",
        "    self.close()\n",
        "    self.lock = threading.Lock()\n",
        "    self.neo4j_info = neo4j_info\n",
        "    self.driver = GraphDatabase.driver(neo4j_info.uri, auth=neo4j_info.auth)\n",
        "    self.session = self.driver.session(database=neo4j_info.database)\n",
        "    self.target_change_rate = target_change_rate\n",
        "    self.target_change_rate_per_thread = -1\n",
        "    if self.target_change_rate > 0:\n",
        "      self.target_change_rate_per_thread = target_change_rate / self.max_threads\n",
        "    self.payload_bytes = payload_bytes\n",
        "\n",
        "  def close(self):\n",
        "    if self.running: self.wait_stop()\n",
        "    if self.session is not None:\n",
        "      self.session.close()\n",
        "      self.session = None\n",
        "    if self.driver is not None:\n",
        "      self.driver.close()\n",
        "      self.driver = None\n",
        "\n",
        "  def start(self):\n",
        "    if self.running: return\n",
        "\n",
        "    self.running = True\n",
        "    self.start_time = time.time()\n",
        "    self.total_changes = 0\n",
        "\n",
        "    self.threads = []\n",
        "    for thread_id in range(self.max_threads):\n",
        "      thread = Thread(target=self.change_maker_thread, args=(self.driver, thread_id, self.target_change_rate_per_thread, lambda : self.running))\n",
        "      self.threads.append(thread)\n",
        "    for thread in self.threads:\n",
        "      thread.start()\n",
        "\n",
        "  def send_stop(self):\n",
        "    self.stop_thread = Thread(target=self.time_stop_thread, args=())\n",
        "    self.stop_thread.start()\n",
        "\n",
        "  def time_stop_thread(self):\n",
        "    self.running = False\n",
        "    for thread in self.threads:\n",
        "      thread.join()\n",
        "    self.stop_time = time.time()\n",
        "    self.total_runtime = self.stop_time - self.start_time\n",
        "\n",
        "  def wait_stop(self):\n",
        "    self.send_stop()\n",
        "    self.stop_thread.join()\n",
        "    return self.total_changes, self.total_runtime\n",
        "\n",
        "  def change_maker_thread(self, driver, thread_id, target_change_rate_per_thread, running):\n",
        "    my_start_time = perf_counter()\n",
        "    my_total_changes = 0\n",
        "    my_batch_size = self.max_batch_size\n",
        "    if target_change_rate_per_thread > 0:\n",
        "      my_batch_size = math.ceil(min(target_change_rate_per_thread/2, my_batch_size))\n",
        "\n",
        "    with driver.session(database=\"neo4j\") as session:\n",
        "      while running():\n",
        "\n",
        "        create_nodes(session, my_batch_size, thread_id, payload_bytes=self.payload_bytes)\n",
        "        my_total_changes += my_batch_size\n",
        "        with self.lock:\n",
        "          self.total_changes += my_batch_size\n",
        "        self.wait_if_necessary(my_start_time, my_total_changes, target_change_rate_per_thread, thread_id)\n",
        "\n",
        "        if not running(): break\n",
        "        time.sleep(0.001)\n",
        "\n",
        "        delete_nodes(session, thread_id)\n",
        "        my_total_changes += my_batch_size\n",
        "        with self.lock:\n",
        "          self.total_changes += my_batch_size\n",
        "        self.wait_if_necessary(my_start_time, my_total_changes, target_change_rate_per_thread, thread_id)\n",
        "        time.sleep(0.001)\n",
        "\n",
        "  def wait_if_necessary(self, my_start_time, my_total_changes, target_change_rate_per_thread, thread_id):\n",
        "    if target_change_rate_per_thread <= 0:\n",
        "      return\n",
        "\n",
        "    elapsed_time = perf_counter() - my_start_time\n",
        "    expected_changes = elapsed_time * target_change_rate_per_thread\n",
        "\n",
        "    #if thread_id == 0:\n",
        "    #  print(\"elapse: {}, actual changes {}, expected changes {}\".format(elapsed_time, my_total_changes, expected_changes))\n",
        "\n",
        "    excess_changes = my_total_changes - expected_changes\n",
        "    if excess_changes <= 0:\n",
        "      return\n",
        "\n",
        "    required_delay = excess_changes / target_change_rate_per_thread\n",
        "    time.sleep(required_delay)\n",
        "\n",
        "cm = change_maker()\n",
        "\n",
        "def test_make_changes(neo4j_info, target_change_rate, test_duration):\n",
        "  cm.open(neo4j_info, target_change_rate=target_change_rate)\n",
        "  cm.start()\n",
        "  time.sleep(test_duration)\n",
        "  total_changes, total_runtime = cm.wait_stop()\n",
        "  cm.close()\n",
        "  return total_changes, total_runtime\n",
        "\n",
        "total_changes, total_runtime = test_make_changes(neo4j_info, 50_000, 10)\n",
        "print(\"Actual change rate: {:,.0f}\".format(total_changes/total_runtime))\n",
        "print(\"Total time: {}\".format(total_runtime))\n",
        "print(\"Total changes: {}\".format(total_changes))"
      ],
      "metadata": {
        "colab": {
          "base_uri": "https://localhost:8080/"
        },
        "id": "7Ao1c52FK2x0",
        "outputId": "5b7a9941-710f-4246-9114-a78c7a4ce0c8"
      },
      "execution_count": null,
      "outputs": [
        {
          "output_type": "stream",
          "name": "stdout",
          "text": [
            "Actual change rate: 49,989\n",
            "Total time: 10.082184314727783\n",
            "Total changes: 504000\n"
          ]
        }
      ]
    },
    {
      "cell_type": "code",
      "source": [
        "#Test change_make's ability to hit specific change rates\n",
        "\n",
        "target_rate = 1000\n",
        "increment = 1000\n",
        "test_duration = 10\n",
        "\n",
        "while target_rate <= 5_000:\n",
        "  total_changes, total_runtime = test_make_changes(neo4j_info, target_rate, test_duration)\n",
        "  print(\"Target rate: {:,.0f}, Actual change rate: {:,.0f}, Target time: {:,.1f}, Actual time: {:,.1f}\".format(target_rate, total_changes/total_runtime, test_duration, total_runtime))\n",
        "  target_rate += increment"
      ],
      "metadata": {
        "colab": {
          "base_uri": "https://localhost:8080/"
        },
        "id": "JeLP-c2GvPEl",
        "outputId": "f19ba580-5f89-40e1-a869-c1e1b716d706"
      },
      "execution_count": null,
      "outputs": [
        {
          "output_type": "stream",
          "name": "stdout",
          "text": [
            "Target rate: 1,000, Actual change rate: 1,000, Target time: 10.0, Actual time: 10.0\n",
            "Target rate: 2,000, Actual change rate: 1,999, Target time: 10.0, Actual time: 10.0\n",
            "Target rate: 3,000, Actual change rate: 2,999, Target time: 10.0, Actual time: 10.5\n",
            "Target rate: 4,000, Actual change rate: 4,000, Target time: 10.0, Actual time: 10.5\n",
            "Target rate: 5,000, Actual change rate: 4,998, Target time: 10.0, Actual time: 10.0\n"
          ]
        }
      ]
    },
    {
      "cell_type": "code",
      "source": [
        "#Individual test of CDC's ability to keep up with change_maker\n",
        "\n",
        "def performance_test(target_change_rate, test_time, payload_bytes=1):\n",
        "  test_delete_all_nodes(neo4j_info)\n",
        "  time.sleep(1)\n",
        "  cdc.open(neo4j_info)\n",
        "  cm.open(neo4j_info, target_change_rate=target_change_rate, payload_bytes=payload_bytes)\n",
        "  cdc.start()\n",
        "  cm.start()\n",
        "  time.sleep(test_time)\n",
        "  cm.send_stop()\n",
        "  cdc.send_stop()\n",
        "  time.sleep(0.001)\n",
        "  total_captured, total_cdc_time, first_event_size = cdc.wait_stop()\n",
        "  total_changes, total_cm_time = cm.wait_stop()\n",
        "  cm.close()\n",
        "  cdc.close()\n",
        "\n",
        "  print(\"{:,.0f}\\t{:,.0f}\\t{:,.0f}\\t{:,.0f}\\t{:,.1f}\\t{:,.0f}\\t{:,.1f}\".format(first_event_size, target_change_rate, test_time, total_changes, total_cm_time, total_captured, total_cdc_time))\n",
        "  return total_changes, total_cm_time, total_captured, total_cdc_time, first_event_size\n",
        "\n",
        "target_change_rate = 3000\n",
        "test_time = 10 #seconds\n",
        "payload_bytes = 1\n",
        "total_changes, total_cm_time, total_captured, total_cdc_time, first_event_size = performance_test(target_change_rate, test_time, payload_bytes)\n",
        "\n",
        "print(\"Target Rate: {:,.0f}, Test Time: {:,.0f}\".format(target_change_rate, test_time))\n",
        "print(\"Total Changes: {:,.0f}, Total Time: {:,.1f}s, Change Rate: {:,.0f}\".format(total_changes, total_cm_time, total_changes/total_cm_time))\n",
        "print(\"Total Events: {:,.0f}, Total Time: {:,.1f}s, Event Rate: {:,.0f}\".format(total_captured, total_cdc_time, total_captured/total_cdc_time))\n",
        "print(\"First event size: {:,.0f} bytes\".format(first_event_size))\n"
      ],
      "metadata": {
        "colab": {
          "base_uri": "https://localhost:8080/"
        },
        "id": "Z59pa-XcZKXS",
        "outputId": "807f7753-316e-4a5a-eafe-155c6a6e4e6c"
      },
      "execution_count": null,
      "outputs": [
        {
          "output_type": "stream",
          "name": "stdout",
          "text": [
            "817\t3,000\t10\t31,500\t10.6\t25,500\t10.6\n",
            "Target Rate: 3,000, Test Time: 10\n",
            "Total Changes: 31,500, Total Time: 10.6s, Change Rate: 2,985\n",
            "Total Events: 25,500, Total Time: 10.6s, Event Rate: 2,416\n",
            "First event size: 817 bytes\n"
          ]
        }
      ]
    },
    {
      "cell_type": "code",
      "source": [
        "#Automate tests of CDC's ability to keep up with change_maker\n",
        "#Example results: https://docs.google.com/spreadsheets/d/1mc33GeNxbMYku36JZ68ieWV4RgMhMfy0y2tt8cpQdA0/edit?gid=619424928#gid=619424928\n",
        "\n",
        "rate = 250\n",
        "increment = 250\n",
        "test_time = 10\n",
        "while rate <= 5_000:\n",
        "  performance_test(rate, test_time)\n",
        "  rate += increment"
      ],
      "metadata": {
        "colab": {
          "base_uri": "https://localhost:8080/"
        },
        "id": "StQwrcDbSkKm",
        "outputId": "e179e5c4-049f-45b4-8612-61578c50a75f"
      },
      "execution_count": null,
      "outputs": [
        {
          "output_type": "stream",
          "name": "stdout",
          "text": [
            "813\t250\t10\t2,520\t10.1\t5,022\t10.0\n",
            "814\t500\t10\t5,040\t10.1\t5,040\t10.0\n",
            "812\t750\t10\t7,875\t10.5\t7,500\t10.1\n",
            "813\t1,000\t10\t10,020\t10.0\t10,395\t10.0\n",
            "814\t1,250\t10\t12,540\t10.1\t12,540\t10.1\n",
            "811\t1,500\t10\t15,750\t10.5\t15,000\t10.1\n",
            "813\t1,750\t10\t17,520\t10.1\t18,270\t10.1\n",
            "811\t2,000\t10\t20,040\t10.6\t20,040\t10.6\n",
            "813\t2,250\t10\t23,625\t10.5\t21,375\t10.3\n",
            "813\t2,500\t10\t25,854\t10.6\t21,251\t10.6\n",
            "814\t2,750\t10\t27,540\t10.5\t21,377\t10.5\n",
            "814\t3,000\t10\t31,500\t10.6\t21,500\t10.6\n",
            "812\t3,250\t10\t34,146\t10.7\t21,626\t10.7\n",
            "814\t3,500\t10\t35,040\t10.6\t21,752\t10.6\n",
            "812\t3,750\t10\t39,375\t11.3\t21,875\t11.3\n",
            "812\t4,000\t10\t42,021\t11.2\t22,001\t11.2\n",
            "814\t4,250\t10\t43,249\t11.3\t22,127\t11.3\n",
            "812\t4,500\t10\t47,250\t11.4\t22,250\t11.4\n",
            "813\t4,750\t10\t49,896\t11.5\t22,376\t11.5\n",
            "813\t5,000\t10\t52,542\t11.4\t22,502\t11.4\n"
          ]
        }
      ]
    },
    {
      "cell_type": "markdown",
      "source": [],
      "metadata": {
        "id": "dqjOIpgESNtv"
      }
    }
  ]
}